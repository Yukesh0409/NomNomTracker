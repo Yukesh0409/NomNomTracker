{
 "cells": [
  {
   "cell_type": "code",
   "execution_count": 2,
   "metadata": {},
   "outputs": [],
   "source": [
    "from pymongo import MongoClient\n",
    "from rapidfuzz import fuzz, process\n",
    "\n",
    "client = MongoClient(\"mangakottai\")\n",
    "db = client[\"NomNom\"]  \n",
    "collection = db[\"Foods\"] "
   ]
  },
  {
   "cell_type": "code",
   "execution_count": 14,
   "metadata": {},
   "outputs": [
    {
     "name": "stdout",
     "output_type": "stream",
     "text": [
      "['Idly', 'Dosa', 'Vada', 'Poori', 'Uttapam', 'Appam', 'Puttu', 'Malabar Parotta', 'Pongal', 'Sambar Rice', 'Biryani', 'Chicken Curry', 'Mutton Curry', 'Fish Curry', 'Prawn Masala', 'Mutton Kuzhambu', 'Butter Chicken', 'Egg Curry', 'Beef Fry', 'Kerala Chicken Stew', 'Paneer Butter Masala', 'Veg Biryani', 'Chettinad Chicken', 'Mutton Biryani', 'Keralan Beef Curry', 'Chole Biryani', 'Chicken Masala', 'Andhra Chicken Curry', 'Fish Fry', 'Vegetable Kurma', 'Naan', 'Chapati', 'Prawn Biryani', 'Mutton Pepper Fry', 'Crab Curry', 'Mushroom Masala', 'Keema Masala', 'Egg Biryani', 'Thali', 'Chicken 65', 'Malai Kofta', 'Tandoori Chicken', 'Roti', 'Masala Dosa', 'Noodles', 'Veg Manchurian', 'Chicken Tikka', 'Veg Fried Rice', 'Prawn Curry', 'Mushroom Biryani', 'Chettinad Mutton', 'Lamb Curry', 'Veg Soup', 'Fish Pulimunchi', 'Chicken Saagwala', 'Ragi Dosa', 'Beef Biryani', 'Vegetable Fried Rice', 'Malabar Egg Roast', 'Chicken Lollipop', 'Pork Curry', 'Jeera Rice', 'Mutton Rogan Josh', 'Veg Kurma', 'Butter Naan', 'Dum Biryani', 'Veg Sambar Rice', 'Prawns Masala', 'Chicken Dum Biryani', 'Ghee Rice', 'Chicken Malai Kebab', 'Kerala Parotta', 'Drumstick Curry', 'Fish Tikka', 'Dhokla', 'Veg Pizza', 'Mutton Seekh Kebab', 'Rava Idly', 'Chicken Shawarma', 'Pork Biryani', 'Veg Hakka Noodles', 'Goat Curry', 'Gobi Manchurian', 'Mutton Korma', 'Egg Kothu Parotta', 'Hyderabadi Chicken Biryani', 'Fish Curry Rice', 'Veg Masala Dosa', 'Keema Naan', 'Kerala Puttu', 'Veg Pulao', 'Chicken Fried Rice', 'Lamb Biryani', 'Chicken Shawarma Roll', 'Butter Paneer', 'Chicken Handi', 'Veg Roti', 'Mushroom Noodles', 'Veg Pulav', 'Chicken Sukka', 'Beef Vindaloo', 'Ghee Roast', 'Veg Hoppers', 'Murukku', 'Banana Chips', 'Samosa', 'Vada Pav', 'Pakora', 'Egg Roll', 'Aloo Tikki Burger', 'Pani Puri', 'Pav Bhaji', 'Veg Spring Roll', 'Chicken Nuggets', 'Methi Thepla', 'Puttu Kadala', 'Gulab Jamun', 'Jalebi', 'Mysore Pak', 'Rasgulla', 'Coconut Ladoo', 'Samosa Chaat', 'Chicken Cutlet', 'Masala Papad', 'Egg Puff', 'Cheese Grilled Sandwich', 'Prawn Toast', 'Veg Burger', 'Fish Finger', 'Veg Pakora', 'Keema Samosa', 'Paneer Tikka', 'Chicken Shawarma', 'Veg Cutlet', 'Veg Grilled Sandwich', 'Chicken Spring Roll', 'Fish Burger', 'Egg Salad Sandwich', 'Butter Biscuit', 'Veg Cheese Balls', 'Chicken Meatballs', 'Veg Dhokla', 'Egg Salad', 'Veg French Fries', 'Butter Cookies', 'Veg Puffs', 'Chicken Shawarma Roll', 'Prawn Cutlet', 'Veg Fritters', 'Chicken Meat Pie', 'Cheese Puff', 'Chicken Cheese Ball', 'Veg Cheese Puffs', 'Veg Popcorn', 'Egg Cutlet', 'Paneer Cheese Toast', 'Fish Cutlet', 'Veg Nuggets', 'Butter Murukku', 'Chicken Cheese Grilled Sandwich', 'Veg Pizza Slice', 'Veg Pasta', 'Egg Cheese Roll', 'Veg Biryani Puff', 'Veg Donuts', 'Egg Cheese Waffle', 'Veg Sandwich', 'Chicken Momo', 'Veg Fritter', 'Chicken Cheese Croissant', 'Veg Doughnuts', 'Chicken Spring Rolls', 'Veg Veggie Burger', 'Prawn Croquettes', 'Chicken Macarons', 'Veg Spring Roll', 'Cheese Waffles', 'Chicken Gyoza', 'Veg Cheese Sandwich', 'Veg Pizza Bites', 'Egg Cheese Tart', 'Butter Biscuit', 'Veg Fries', 'Chicken Puff', 'Paneer Sandwich', 'Chicken Croquettes', 'Veg Spring Rolls', 'Chicken Quesadilla', 'Veg Cheese Cutlet', 'Chicken Pizza Slice', \"Lay's Classic\", 'Kurkure', 'Maggi Noodles', 'Bingo!', 'Perk', 'KitKat', 'Munch', 'Lassi', 'Fruity', 'Sprite', 'Coke', 'Thumbs Up', 'Red Bull', 'Appy Fizz', 'Mountain Dew', 'Fanta', 'Pepsi', 'Boost', 'Complan', 'Yippee! Noodles', 'Oreo', \"Haldiram's Bhujia\", 'Kurkure Tikkito', 'Uncle Chips', 'Maggi Sauce', 'Cadbury Dairy Milk', 'Alpenliebe', 'Perk Shake', '5-Star', 'Cadbury Silk', 'Colgate', 'Parle-G', 'Nestlé Munch', 'Lotte Choco Pie', 'Sunfeast', 'Nestlé KitKat', 'Toblerone', 'Poppins', 'Nestlé Maggi', 'Nutella', 'Little Debbie Swiss Roll', \"Lay's Maxx\", 'Bingo Mad Angles', 'Appy', 'Bru Instant Coffee', 'Kellogg’s Corn Flakes', 'Kellogg’s Rice Krispies', 'Kellogg’s Special K', 'Cadbury Chocobakes', 'Lotte Milkita', 'Fritters', 'Double Decker', 'Perk Wafers', 'Bounty', 'Munch Nuts', 'Maggi Superfood Bowl', 'Munch Cookie', 'Kurkure Popcorn', 'Sunfeast Yippee! Noodles', 'Lotte White', 'Oreo Shake', 'KitKat Chunky', 'Perk Pop', 'Lays Wavy', 'Lay’s Maxx Hot and Spicy', 'Chikki', \"M&M's\", 'Lotte Crunky', 'Oreo Pouch', 'Ferrero Rocher', 'Lotte Candyman Jelly', 'Parle G Biscuits', 'Milk Bikis', \"Haldiram's Gulab Jamun\", 'Kurkure Stick', 'Lay’s Maxx', 'Bingo Tango', 'Maggi Hot Heads', 'Alpenliebe Hard Candy', 'Cadbury Bournville', 'Milkybar', 'Nestlé KitKat Chunky', 'Lay’s Classic', 'Hershey’s Milk Chocolate', 'Sunfeast Yippee! Hot and Spicy', 'Kellogg’s Chocos', 'Parle Monaco', 'NutriChoice Digestive', 'Oreo Twist', 'Good Day', 'KitKat Peanut Butter', 'Munch Nutties', 'Hershey’s Nuggets', 'Bournvita', 'Cadbury Fuse', 'Alpenliebe Jelly', 'Haldiram’s Rajbhog', 'Yippee! Tomato', 'Lay’s Potato Chips', 'Cheetos', 'Sunfeast Dark Fantasy Choco Fills', 'Doritos', 'KitKat Green Tea', \"Kellogg's Choco Fills\", 'Lotte Cookie Shot', 'Gits Rasgulla', 'Pop-Tarts', 'Lays Maxx', 'Cheetos Cheese Puffs', 'Maggi Munchies', 'Alpenliebe Pops', 'Perk Cream', \"Lay's Cream & Onion\", \"Haldiram's Mawa Kachori\", 'Munch Wafers', 'Nestlé Yippee!', 'Good Day Choco Fills', 'Dairy Milk Silk', 'KFC Chicken', \"McDonald's Burger\", \"Domino's Pizza Slice\", 'Subway Sandwich', 'Burger King Whopper', 'Taco Bell Taco', 'Pizza Hut Pepperoni Pizza', 'Haldiram’s Biryani', 'Dunkin’ Donuts Donut', 'Baskin Robbins Ice Cream Scoop', 'KFC French Fries', \"McDonald's McFlurry\", 'Starbucks Coffee', 'Subway Veggie Wrap', 'Pizza Hut Veggie Pizza', 'Taco Bell Crunchwrap', 'Burger King Veggie Burger', \"Domino's Veggie Pizza\", 'Baskin Robbins Sundae', 'Krispy Kreme Donut', 'Krispy Kreme Chocolate Doughnut', 'Hardee’s Chicken Burger', \"McDonald's Chicken Nuggets\", 'Papa John’s Veggie Pizza', 'Subway Chicken Teriyaki', 'Burger King Veggie Wrap', 'KFC Zinger Burger', 'Haldiram’s Pav Bhaji', 'Dunkin’ Donuts Veggie Sandwich', 'Baskin Robbins Chocolate Chip Ice Cream', 'Subway Meatball Marinara', \"McDonald's Filet-O-Fish\", 'Taco Bell Veggie Bowl', 'Burger King Spicy Chicken', \"Domino's Veggie Pasta\", 'KFC Hot Wings', 'Pizza Hut Veggie Pasta', 'Haldiram’s Paneer Tikka', 'Hardee’s Veggie Supreme Burger', 'Baskin Robbins Strawberry Ice Cream', 'Krispy Kreme Cinnamon Roll', 'Subway Veggie Delight', \"McDonald's Chocolate Shake\", 'KFC Burger', 'Domino’s Pepper Barbecue Chicken', 'Taco Bell Nachos', 'Hardee’s Mozzarella Sticks', 'Pizza Hut Garlic Bread', 'Dunkin’ Donuts Chocolate Iced Coffee', 'Baskin Robbins Mint Chocolate Chip Ice Cream', 'Krispy Kreme Lemon Glaze Doughnut', 'Burger King Veggie Nuggets', 'Subway Veggie Wrap', \"McDonald's Bacon Burger\", \"Domino's Veggie Cheese Pasta\", 'KFC Hot & Spicy Chicken', 'Pizza Hut Veggie Supreme Pizza', 'Taco Bell Veggie Taco', 'Baskin Robbins Vanilla Ice Cream', 'Krispy Kreme Glazed Donut', 'Subway Italian B.M.T', 'Hardee’s Veggie Burger', \"Domino's Cheesy Veggie Pizza\", \"McDonald's Chicken McBites\", 'Taco Bell Veggie Supreme', 'KFC Classic Chicken', 'Baskin Robbins Pralines & Cream Ice Cream', 'Krispy Kreme Chocolate Glaze', 'Domino’s Butter Garlic Bread', 'Subway Tuna Sandwich', 'Hardee’s Veggie Delight', 'Pizza Hut Veggie Margherita', 'KFC Caesar Salad', 'Taco Bell Loaded Grilled Cheese', 'Baskin Robbins Black Currant Ice Cream', 'Krispy Kreme Birthday Cake Donut', 'Subway Veggie Melt', \"McDonald's Egg McMuffin\", \"Domino's Veggie Supreme Pasta\", 'Hardee’s BBQ Chicken Burger', 'Baskin Robbins Chocolate Chip Cookie Dough', 'Taco Bell Veggie Grilled Stuft', 'Pizza Hut Veggie BBQ', 'KFC Sweet Chili Chicken']\n"
     ]
    }
   ],
   "source": [
    "search_term = \"Murku\"\n",
    "all_food_items = list(collection.find({}, {\"_id\": 0, \"Food Item\": 1}))\n",
    "food_item_list = [item[\"Food Item\"] for item in all_food_items if \"Food Item\" in item]\n",
    "print(food_item_list)"
   ]
  },
  {
   "cell_type": "code",
   "execution_count": 15,
   "metadata": {},
   "outputs": [
    {
     "data": {
      "text/plain": [
       "False"
      ]
     },
     "execution_count": 15,
     "metadata": {},
     "output_type": "execute_result"
    }
   ],
   "source": [
    "'Murku' in food_item_list"
   ]
  },
  {
   "cell_type": "code",
   "execution_count": 16,
   "metadata": {},
   "outputs": [
    {
     "name": "stdout",
     "output_type": "stream",
     "text": [
      "Top recommendations for 'Murku':\n",
      "- Food Item: Murukku\n",
      "  Category: Vegetarian\n",
      "  Calories: 250 kcal\n",
      "  Quantity: 1\n",
      "\n",
      "- Food Item: Butter Murukku\n",
      "  Category: Vegetarian\n",
      "  Calories: 280 kcal\n",
      "  Quantity: 1\n",
      "\n",
      "- Food Item: Kurkure Tikkito\n",
      "  Category: Vegetarian\n",
      "  Calories: 250 kcal\n",
      "  Quantity: 1\n",
      "\n",
      "- Food Item: Kurkure Popcorn\n",
      "  Category: Vegetarian\n",
      "  Calories: 200 kcal\n",
      "  Quantity: 1\n",
      "\n",
      "- Food Item: Kurkure Stick\n",
      "  Category: Vegetarian\n",
      "  Calories: 250 kcal\n",
      "  Quantity: 1\n",
      "\n"
     ]
    }
   ],
   "source": [
    "\n",
    "matches = process.extract(search_term, food_item_list, limit=5, scorer=fuzz.WRatio)\n",
    "\n",
    "if matches:\n",
    "    print(f\"Top recommendations for '{search_term}':\")\n",
    "    for match_tuple in matches:\n",
    "        match = match_tuple[0] \n",
    "        score = match_tuple[1] \n",
    "\n",
    "        food_details = collection.find_one({\"Food Item\": match}, {\"_id\": 0})\n",
    "        print(\n",
    "            f\"- Food Item: {food_details.get('Food Item', 'N/A')}\\n\"\n",
    "            f\"  Category: {food_details.get('Category', 'N/A')}\\n\"\n",
    "            f\"  Calories: {food_details.get('Calories', 'N/A')} kcal\\n\"\n",
    "            f\"  Quantity: {food_details.get('Quantity', 'N/A')}\\n\"\n",
    "        )\n",
    "else:\n",
    "    print(f\"No recommendations found for '{search_term}'.\")\n",
    "\n"
   ]
  },
  {
   "cell_type": "code",
   "execution_count": null,
   "metadata": {},
   "outputs": [],
   "source": []
  }
 ],
 "metadata": {
  "kernelspec": {
   "display_name": ".venv",
   "language": "python",
   "name": "python3"
  },
  "language_info": {
   "codemirror_mode": {
    "name": "ipython",
    "version": 3
   },
   "file_extension": ".py",
   "mimetype": "text/x-python",
   "name": "python",
   "nbconvert_exporter": "python",
   "pygments_lexer": "ipython3",
   "version": "3.13.1"
  }
 },
 "nbformat": 4,
 "nbformat_minor": 2
}
